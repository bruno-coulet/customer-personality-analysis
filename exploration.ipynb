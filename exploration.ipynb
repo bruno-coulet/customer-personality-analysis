{
 "cells": [
  {
   "cell_type": "markdown",
   "id": "f1106dcf",
   "metadata": {},
   "source": [
    "Un notebook propre et commenté (introduction,\n",
    "analyses, conclusion, etc) contenant : le procédé de\n",
    "développement de votre outil, du prétraitement à la\n",
    "modélisation des données, en passant par l’analyse\n",
    "exploratoire.\n",
    "\n",
    "Pensez à répondre à la problématique."
   ]
  }
 ],
 "metadata": {
  "kernelspec": {
   "display_name": "base",
   "language": "python",
   "name": "python3"
  },
  "language_info": {
   "name": "python",
   "version": "3.12.4"
  }
 },
 "nbformat": 4,
 "nbformat_minor": 5
}
