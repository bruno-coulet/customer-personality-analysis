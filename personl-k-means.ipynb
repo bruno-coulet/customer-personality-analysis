{
 "cells": [
  {
   "cell_type": "code",
   "execution_count": 56,
   "id": "d11805db",
   "metadata": {},
   "outputs": [],
   "source": [
    "from sklearn.datasets import load_iris\n",
    "from sklearn.model_selection import train_test_split\n",
    "import numpy as np, pandas as pd, matplotlib.pyplot as plt, seaborn as sns\n",
    "\n",
    "iris = load_iris()\n",
    "X = iris.data       \n",
    "y = iris.target     \n",
    "\n",
    "df = pd.DataFrame(X, columns=iris.feature_names)\n",
    "\n",
    "# X.shape\n",
    "X.shape[0]\n",
    "\n",
    "# Nombre de centroïdes\n",
    "K = 4"
   ]
  },
  {
   "cell_type": "markdown",
   "id": "a6a67649",
   "metadata": {},
   "source": [
    "#### 1.  On place k  (centroïdes) au hasard parmi les données"
   ]
  },
  {
   "cell_type": "code",
   "execution_count": 57,
   "id": "ff3fecaf",
   "metadata": {},
   "outputs": [],
   "source": [
    "def create_centroids(X, K):\n",
    "    # Nombre de centroïde\n",
    "    k = 4\n",
    "    #  k indices différents et aléatoires parmi les lignes de X, sans répétition.\n",
    "    indices = np.random.choice(X.shape[0], k, replace=False)\n",
    "    # tableau (k, 4) contenant k centroïdes initiaux choisis parmi les points du dataset.\n",
    "    initial_centroids = X[indices]\n",
    "\n",
    "    return initial_centroids\n"
   ]
  },
  {
   "cell_type": "code",
   "execution_count": 58,
   "id": "b330dae5",
   "metadata": {},
   "outputs": [],
   "source": [
    "# TEST DE LA FONCTION\n",
    "# initial_centroids = create_centroids(X, K)\n",
    "# initial_centroids"
   ]
  },
  {
   "cell_type": "markdown",
   "id": "974b947c",
   "metadata": {},
   "source": [
    "#### 2. Chaque point du dataset est affecté au centroïd le plus proche \n",
    "##### fonction `assign_to_clusters`\n",
    "\n",
    "\n",
    "- `np.newaxis` →      ajoute une dimension\n",
    "\n",
    "- `X[:, np.newaxis]` →  transforme X de (150, 4) en (150, 1, 4)\n",
    "\n",
    "- `centroids.shape` →  (k, 4)\n",
    "\n",
    "- `X[:, np.newaxis - centroids]` →  (150, k, 4)\n",
    "\n",
    "- `np.linalg.norm(..., axis=2)` →  calcule la distance euclidienne → forme finale : (150, k)\n",
    "\n",
    "- `np.argmin(..., axis=1)` →  donne pour chaque ligne, l’indice du centroïde le plus proche"
   ]
  },
  {
   "cell_type": "code",
   "execution_count": 59,
   "id": "d905ccd6",
   "metadata": {},
   "outputs": [],
   "source": [
    "def assign_to_clusters(X, initial_centroids):\n",
    "    # Calcul des distances entre chaque point et chaque centroïde\n",
    "    distances = np.linalg.norm(X[:, np.newaxis] - initial_centroids, axis=2)\n",
    "    \n",
    "    # Affectation : indice du centroïde le plus proche\n",
    "    cluster_labels = np.argmin(distances, axis=1)\n",
    "    \n",
    "    return cluster_labels    "
   ]
  },
  {
   "cell_type": "code",
   "execution_count": 60,
   "id": "0768a026",
   "metadata": {},
   "outputs": [],
   "source": [
    "# TEST DE LA FONCTION\n",
    "# cluster_labels = assign_to_clusters(X, initial_centroids)\n",
    "# cluster_labels"
   ]
  },
  {
   "cell_type": "markdown",
   "id": "d0469e23",
   "metadata": {},
   "source": [
    "#### 3. Le centroïd est déplacé au milieu du cluster (la moyenne des points)\n",
    "##### fonction `update_centroids`\n",
    "\n",
    "- `labels == i` sélectionne tous les points du cluster 𝑖\n",
    "\n",
    "- `.mean(axis=0)` calcule la moyenne colonne par colonne\n",
    "\n",
    "- `np.zeros((k, 4))` initialise la nouvelle matrice de centroïdes"
   ]
  },
  {
   "cell_type": "code",
   "execution_count": 61,
   "id": "3a231fda",
   "metadata": {},
   "outputs": [],
   "source": [
    "def update_centroids(X, cluster_labels, K):\n",
    "    new_centroids = np.zeros((K, X.shape[1]))\n",
    "    for i in range(K):\n",
    "        cluster_points = X[cluster_labels == i]\n",
    "        if len(cluster_points) > 0:\n",
    "            new_centroids[i] = cluster_points.mean(axis=0)\n",
    "    return new_centroids"
   ]
  },
  {
   "cell_type": "code",
   "execution_count": 62,
   "id": "f8a6c70e",
   "metadata": {},
   "outputs": [],
   "source": [
    "# TEST DE LA FONCTION\n",
    "# new_centroids = update_centroids(X, cluster_labels, K)\n",
    "# new_centroids"
   ]
  },
  {
   "cell_type": "markdown",
   "id": "8ea30eed",
   "metadata": {},
   "source": [
    "#### 4.  on recommence jusqu'à ce que les centroïds convergent vers le point d'équilibre"
   ]
  },
  {
   "cell_type": "code",
   "execution_count": 63,
   "id": "24b551c0",
   "metadata": {},
   "outputs": [
    {
     "name": "stdout",
     "output_type": "stream",
     "text": [
      "Convergence à l’itération 3\n"
     ]
    }
   ],
   "source": [
    "centroids = create_centroids(X, K)\n",
    "\n",
    "for iteration in range(10):  # ou jusqu'à convergence\n",
    "    cluster_labels = assign_to_clusters(X, centroids)\n",
    "    new_centroids = update_centroids(X, cluster_labels, K)\n",
    "    \n",
    "    if np.allclose(new_centroids, centroids, atol=1e-4):\n",
    "        print(f\"Convergence à l’itération {iteration}\")\n",
    "        break\n",
    "    \n",
    "    centroids = new_centroids\n"
   ]
  },
  {
   "cell_type": "code",
   "execution_count": 64,
   "id": "3af562e8",
   "metadata": {},
   "outputs": [
    {
     "name": "stdout",
     "output_type": "stream",
     "text": [
      "Centroids finaux :\n",
      " [[5.88360656 2.74098361 4.38852459 1.43442623]\n",
      " [4.81818182 3.23636364 1.43333333 0.23030303]\n",
      " [6.85384615 3.07692308 5.71538462 2.05384615]\n",
      " [5.37058824 3.8        1.51764706 0.27647059]] \n",
      "\n",
      "Exemples de labels assignés : [1 1 1 1 1 3 1 1 1 1]\n"
     ]
    }
   ],
   "source": [
    "print(\"Centroids finaux :\\n\", centroids,\"\\n\")\n",
    "print(\"Exemples de labels assignés :\", cluster_labels[:10])"
   ]
  }
 ],
 "metadata": {
  "kernelspec": {
   "display_name": "base",
   "language": "python",
   "name": "python3"
  },
  "language_info": {
   "codemirror_mode": {
    "name": "ipython",
    "version": 3
   },
   "file_extension": ".py",
   "mimetype": "text/x-python",
   "name": "python",
   "nbconvert_exporter": "python",
   "pygments_lexer": "ipython3",
   "version": "3.12.4"
  }
 },
 "nbformat": 4,
 "nbformat_minor": 5
}
