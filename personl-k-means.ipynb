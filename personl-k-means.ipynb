{
 "cells": [
  {
   "cell_type": "code",
   "execution_count": null,
   "id": "d11805db",
   "metadata": {},
   "outputs": [],
   "source": [
    "from sklearn.datasets import load_iris\n",
    "from sklearn.model_selection import train_test_split\n",
    "import numpy as np, pandas as pd, matplotlib.pyplot as plt, seaborn as sns\n",
    "\n",
    "iris = load_iris()\n",
    "X = iris.data       \n",
    "y = iris.target     \n",
    "\n",
    "df = pd.DataFrame(X, columns=iris.feature_names)"
   ]
  },
  {
   "cell_type": "code",
   "execution_count": null,
   "id": "bfb4aef3",
   "metadata": {},
   "outputs": [
    {
     "data": {
      "text/plain": [
       "(150, 4)"
      ]
     },
     "execution_count": 9,
     "metadata": {},
     "output_type": "execute_result"
    }
   ],
   "source": [
    "# X.shape\n",
    "X.shape[0]"
   ]
  },
  {
   "cell_type": "markdown",
   "id": "a6a67649",
   "metadata": {},
   "source": [
    "1.  On place k  (centroïdes) au hasard parmi les données"
   ]
  },
  {
   "cell_type": "code",
   "execution_count": 39,
   "id": "ff3fecaf",
   "metadata": {},
   "outputs": [
    {
     "data": {
      "text/plain": [
       "(4, 4)"
      ]
     },
     "execution_count": 39,
     "metadata": {},
     "output_type": "execute_result"
    }
   ],
   "source": [
    "# Nombre de centroïde\n",
    "k = 4\n",
    "#  k indices différents et aléatoires parmi les lignes de X, sans répétition.\n",
    "indices = np.random.choice(X.shape[0], k, replace=False)\n",
    "# tableau (k, 4) contenant k centroïdes initiaux choisis parmi les points du dataset.\n",
    "centroids = X[indices]\n",
    "\n",
    "centroids.shape"
   ]
  },
  {
   "cell_type": "markdown",
   "id": "974b947c",
   "metadata": {},
   "source": [
    "2.  Chaque point du dataset est affecté au centroïd le plus proche\n",
    "\n",
    "\n",
    "- `np.newaxis` →      ajoute une dimension\n",
    "\n",
    "- `X[:, np.newaxis]` →  transforme X de (150, 4) en (150, 1, 4)\n",
    "\n",
    "- `centroids.shape` →  (k, 4)\n",
    "\n",
    "- `X[:, np.newaxis - centroids]` →  (150, k, 4)\n",
    "\n",
    "- `np.linalg.norm(..., axis=2)` →  calcule la distance euclidienne → forme finale : (150, k)\n",
    "\n",
    "- `np.argmin(..., axis=1)` →  donne pour chaque ligne, l’indice du centroïde le plus proche"
   ]
  },
  {
   "cell_type": "code",
   "execution_count": null,
   "id": "d905ccd6",
   "metadata": {},
   "outputs": [],
   "source": [
    "def assign_to_clusters(X, centroids):\n",
    "    # Calcul des distances entre chaque point et chaque centroïde\n",
    "    distances = np.linalg.norm(X[:, np.newaxis] - centroids, axis=2)\n",
    "    \n",
    "    # Affectation : indice du centroïde le plus proche\n",
    "    cluster_labels = np.argmin(distances, axis=1)\n",
    "    \n",
    "    return cluster_labels    "
   ]
  },
  {
   "cell_type": "code",
   "execution_count": 42,
   "id": "0768a026",
   "metadata": {},
   "outputs": [
    {
     "data": {
      "text/plain": [
       "array([3, 3, 3, 3, 3, 3, 3, 3, 3, 3, 3, 3, 3, 3, 3, 3, 3, 3, 3, 3, 3, 3,\n",
       "       3, 3, 3, 3, 3, 3, 3, 3, 3, 3, 3, 3, 3, 3, 3, 3, 3, 3, 3, 3, 3, 3,\n",
       "       3, 3, 3, 3, 3, 3, 1, 1, 1, 3, 1, 1, 1, 3, 1, 3, 3, 3, 3, 1, 3, 1,\n",
       "       1, 3, 1, 3, 1, 3, 1, 1, 1, 1, 1, 1, 1, 3, 3, 3, 3, 1, 1, 1, 1, 1,\n",
       "       3, 3, 3, 1, 3, 3, 3, 3, 3, 1, 3, 3, 0, 1, 0, 0, 0, 2, 3, 2, 0, 2,\n",
       "       0, 0, 0, 1, 1, 0, 0, 2, 2, 1, 0, 1, 2, 1, 0, 2, 1, 1, 0, 0, 2, 2,\n",
       "       0, 1, 1, 2, 0, 0, 1, 0, 0, 0, 1, 0, 0, 0, 1, 0, 0, 1], dtype=int64)"
      ]
     },
     "execution_count": 42,
     "metadata": {},
     "output_type": "execute_result"
    }
   ],
   "source": [
    "assign_to_clusters(X, centroids)\n"
   ]
  },
  {
   "cell_type": "markdown",
   "id": "d0469e23",
   "metadata": {},
   "source": [
    "3.   Le centroïd est déplacé au milieu du \n",
    "   cluster (la moyenne des points)\n",
    "\n",
    "- `labels == i` sélectionne tous les points du cluster 𝑖\n",
    "\n",
    "- `.mean(axis=0)` calcule la moyenne colonne par colonne\n",
    "\n",
    "- `np.zeros((k, 4))` initialise la nouvelle matrice de centroïdes"
   ]
  },
  {
   "cell_type": "code",
   "execution_count": null,
   "id": "3a231fda",
   "metadata": {},
   "outputs": [],
   "source": [
    "def update_centroids(X, labels, k):\n",
    "    new_centroids = np.zeros((k, X.shape[1]))\n",
    "    for i in range(k):\n",
    "        cluster_points = X[labels == i]\n",
    "        if len(cluster_points) > 0:\n",
    "            new_centroids[i] = cluster_points.mean(axis=0)\n",
    "    return new_centroids\n"
   ]
  },
  {
   "cell_type": "markdown",
   "id": "8ea30eed",
   "metadata": {},
   "source": [
    "4.  on recommence jusqu'à ce que les centroïds \n",
    "    convergent vers le point d'équilibre"
   ]
  },
  {
   "cell_type": "code",
   "execution_count": null,
   "id": "24b551c0",
   "metadata": {},
   "outputs": [],
   "source": []
  },
  {
   "cell_type": "code",
   "execution_count": null,
   "id": "e350ead4",
   "metadata": {},
   "outputs": [],
   "source": []
  }
 ],
 "metadata": {
  "kernelspec": {
   "display_name": "base",
   "language": "python",
   "name": "python3"
  },
  "language_info": {
   "codemirror_mode": {
    "name": "ipython",
    "version": 3
   },
   "file_extension": ".py",
   "mimetype": "text/x-python",
   "name": "python",
   "nbconvert_exporter": "python",
   "pygments_lexer": "ipython3",
   "version": "3.12.4"
  }
 },
 "nbformat": 4,
 "nbformat_minor": 5
}
