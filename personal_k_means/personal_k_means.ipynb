{
 "cells": [
  {
   "cell_type": "code",
   "execution_count": 3,
   "id": "827640df",
   "metadata": {},
   "outputs": [],
   "source": [
    "from utils import (\n",
    "    create_centroids,\n",
    "    assign_to_clusters,\n",
    "    update_centroids,\n",
    "    compute_inertia\n",
    ")\n",
    "from sklearn.datasets import load_iris\n",
    "import numpy as np\n",
    "\n",
    "# Données\n",
    "iris = load_iris()\n",
    "X = iris.data\n",
    "K = 3"
   ]
  },
  {
   "cell_type": "code",
   "execution_count": 4,
   "id": "50b9895b",
   "metadata": {},
   "outputs": [
    {
     "name": "stdout",
     "output_type": "stream",
     "text": [
      "Converged at iteration 9\n"
     ]
    }
   ],
   "source": [
    "centroids = create_centroids(X, K)\n",
    "\n",
    "for iteration in range(100):\n",
    "    labels = assign_to_clusters(X, centroids)\n",
    "    new_centroids = update_centroids(X, labels, K)\n",
    "    if np.allclose(new_centroids, centroids, atol=1e-4):\n",
    "        print(f\"Converged at iteration {iteration}\")\n",
    "        break\n",
    "    centroids = new_centroids"
   ]
  },
  {
   "cell_type": "markdown",
   "id": "ce39a5c1",
   "metadata": {},
   "source": [
    "### Inertia\n",
    "Mesure la somme des distances au carré entre chaque point et son centroïde.\n",
    "\n",
    "Plus l'inertie est faible, mieux les points sont regroupés autour de leur centroïde."
   ]
  },
  {
   "cell_type": "code",
   "execution_count": 5,
   "id": "dc36df9d",
   "metadata": {},
   "outputs": [
    {
     "name": "stdout",
     "output_type": "stream",
     "text": [
      "Inertie : 78.85\n"
     ]
    }
   ],
   "source": [
    "\n",
    "# Évaluation\n",
    "inertia = compute_inertia(X, labels, centroids)\n",
    "print(f\"Inertie : {inertia:.2f}\")\n"
   ]
  }
 ],
 "metadata": {
  "kernelspec": {
   "display_name": "base",
   "language": "python",
   "name": "python3"
  },
  "language_info": {
   "codemirror_mode": {
    "name": "ipython",
    "version": 3
   },
   "file_extension": ".py",
   "mimetype": "text/x-python",
   "name": "python",
   "nbconvert_exporter": "python",
   "pygments_lexer": "ipython3",
   "version": "3.12.4"
  }
 },
 "nbformat": 4,
 "nbformat_minor": 5
}
