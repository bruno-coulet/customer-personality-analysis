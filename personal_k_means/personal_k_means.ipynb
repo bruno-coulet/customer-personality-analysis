{
 "cells": [
  {
   "cell_type": "code",
   "execution_count": null,
   "id": "827640df",
   "metadata": {},
   "outputs": [],
   "source": [
    "from utils import (\n",
    "    create_centroids,\n",
    "    assign_to_clusters,\n",
    "    update_centroids,\n",
    "    compute_inertia\n",
    ")\n",
    "from sklearn.datasets import load_iris\n",
    "import numpy as np\n",
    "\n",
    "# Données\n",
    "iris = load_iris()\n",
    "X = iris.data\n"
   ]
  },
  {
   "cell_type": "code",
   "execution_count": 9,
   "id": "222447d3",
   "metadata": {},
   "outputs": [],
   "source": [
    "K = 4"
   ]
  },
  {
   "cell_type": "markdown",
   "id": "ce39a5c1",
   "metadata": {},
   "source": [
    "### Inertia\n",
    "Mesure la somme des distances au carré entre chaque point et son centroïde.\n",
    "\n",
    "Plus l'inertie est faible, mieux les points sont regroupés autour de leur centroïde."
   ]
  },
  {
   "cell_type": "markdown",
   "id": "70de2f23",
   "metadata": {},
   "source": [
    "### Version un k à la fois"
   ]
  },
  {
   "cell_type": "code",
   "execution_count": null,
   "id": "50b9895b",
   "metadata": {},
   "outputs": [
    {
     "name": "stdout",
     "output_type": "stream",
     "text": [
      "Converged at iteration 7\n"
     ]
    }
   ],
   "source": [
    "# centroids = create_centroids(X, K)\n",
    "\n",
    "# for iteration in range(100):\n",
    "#     labels = assign_to_clusters(X, centroids)\n",
    "#     new_centroids = update_centroids(X, labels, K)\n",
    "#     if np.allclose(new_centroids, centroids, atol=1e-4):\n",
    "#         print(f\"Converged at iteration {iteration}\")\n",
    "#         break\n",
    "#     centroids = new_centroids"
   ]
  },
  {
   "cell_type": "code",
   "execution_count": null,
   "id": "dc36df9d",
   "metadata": {},
   "outputs": [
    {
     "name": "stdout",
     "output_type": "stream",
     "text": [
      "Inertie : 57.38\n"
     ]
    }
   ],
   "source": [
    "\n",
    "# # Évaluation\n",
    "# inertia = compute_inertia(X, labels, centroids)\n",
    "# print(f\"Inertie : {inertia:.2f}\")\n"
   ]
  },
  {
   "cell_type": "markdown",
   "id": "4c6d6671",
   "metadata": {},
   "source": [
    "### Version automatisée"
   ]
  },
  {
   "cell_type": "code",
   "execution_count": 14,
   "id": "1f98224b",
   "metadata": {},
   "outputs": [
    {
     "name": "stdout",
     "output_type": "stream",
     "text": [
      "Converged at iteration 4\n",
      "K = 2 →  inertia = 152.35\n",
      "\n",
      "Converged at iteration 9\n",
      "K = 3 →  inertia = 78.86\n",
      "\n",
      "Converged at iteration 4\n",
      "K = 4 →  inertia = 57.27\n",
      "\n",
      "Converged at iteration 4\n",
      "K = 5 →  inertia = 52.99\n",
      "\n",
      "Converged at iteration 8\n",
      "K = 6 →  inertia = 41.76\n",
      "\n",
      "Converged at iteration 6\n",
      "K = 7 →  inertia = 37.02\n",
      "\n",
      "Converged at iteration 11\n",
      "K = 8 →  inertia = 32.99\n",
      "\n",
      "Converged at iteration 8\n",
      "K = 9 →  inertia = 28.91\n",
      "\n",
      "Converged at iteration 4\n",
      "K = 10 →  inertia = 26.34\n",
      "\n"
     ]
    }
   ],
   "source": [
    "inertia_scores = []\n",
    "centroids = []\n",
    "\n",
    "for K in range (2,11):\n",
    "    centroids = create_centroids(X, K)\n",
    "\n",
    "    for iteration in range(100):\n",
    "        labels = assign_to_clusters(X, centroids)\n",
    "        new_centroids = update_centroids(X, labels, K)\n",
    "\n",
    "        if np.allclose(new_centroids, centroids, atol=1e-4):\n",
    "            print(f\"Converged at iteration {iteration}\")\n",
    "            break\n",
    "\n",
    "        centroids = new_centroids\n",
    "\n",
    "    score = inertia = compute_inertia(X, labels, centroids)\n",
    "    inertia_scores.append(score)\n",
    "    print(f\"K = {K} →  inertia = {score:.2f}\\n\")"
   ]
  }
 ],
 "metadata": {
  "kernelspec": {
   "display_name": "base",
   "language": "python",
   "name": "python3"
  },
  "language_info": {
   "codemirror_mode": {
    "name": "ipython",
    "version": 3
   },
   "file_extension": ".py",
   "mimetype": "text/x-python",
   "name": "python",
   "nbconvert_exporter": "python",
   "pygments_lexer": "ipython3",
   "version": "3.12.4"
  }
 },
 "nbformat": 4,
 "nbformat_minor": 5
}
