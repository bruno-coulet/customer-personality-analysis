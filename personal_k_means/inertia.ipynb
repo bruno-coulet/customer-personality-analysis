{
 "cells": [
  {
   "cell_type": "code",
   "execution_count": 2,
   "id": "169fcabc",
   "metadata": {},
   "outputs": [
    {
     "name": "stdout",
     "output_type": "stream",
     "text": [
      "Convergence à l’itération 6\n",
      "Centroids finaux :\n",
      " [[7.02692308 3.1        5.94615385 2.15      ]\n",
      " [5.006      3.428      1.462      0.246     ]\n",
      " [5.53214286 2.63571429 3.96071429 1.22857143]\n",
      " [6.27391304 2.88695652 4.89347826 1.68043478]] \n",
      "\n",
      "Exemples de labels assignés : [1 1 1 1 1 1 1 1 1 1]\n"
     ]
    },
    {
     "ename": "ModuleNotFoundError",
     "evalue": "No module named 'personal_k_means.personal_k_means'; 'personal_k_means' is not a package",
     "output_type": "error",
     "traceback": [
      "\u001b[1;31m---------------------------------------------------------------------------\u001b[0m",
      "\u001b[1;31mModuleNotFoundError\u001b[0m                       Traceback (most recent call last)",
      "Cell \u001b[1;32mIn[2], line 3\u001b[0m\n\u001b[0;32m      1\u001b[0m \u001b[38;5;28;01mfrom\u001b[39;00m \u001b[38;5;21;01msklearn\u001b[39;00m\u001b[38;5;21;01m.\u001b[39;00m\u001b[38;5;21;01mdatasets\u001b[39;00m \u001b[38;5;28;01mimport\u001b[39;00m load_iris\n\u001b[0;32m      2\u001b[0m \u001b[38;5;28;01mimport\u001b[39;00m \u001b[38;5;21;01mnumpy\u001b[39;00m \u001b[38;5;28;01mas\u001b[39;00m \u001b[38;5;21;01mnp\u001b[39;00m\u001b[38;5;241m,\u001b[39m \u001b[38;5;21;01mpandas\u001b[39;00m \u001b[38;5;28;01mas\u001b[39;00m \u001b[38;5;21;01mpd\u001b[39;00m\n\u001b[1;32m----> 3\u001b[0m \u001b[38;5;28;01mfrom\u001b[39;00m \u001b[38;5;21;01mpersonal_k_means\u001b[39;00m\u001b[38;5;21;01m.\u001b[39;00m\u001b[38;5;21;01mpersonal_k_means\u001b[39;00m \u001b[38;5;28;01mimport\u001b[39;00m create_centroids, assign_to_clusters, update_centroids\n",
      "\u001b[1;31mModuleNotFoundError\u001b[0m: No module named 'personal_k_means.personal_k_means'; 'personal_k_means' is not a package"
     ]
    }
   ],
   "source": [
    "from sklearn.datasets import load_iris\n",
    "import numpy as np, pandas as pd\n",
    "from personal_k_means.personal_k_means import create_centroids, assign_to_clusters, update_centroids"
   ]
  },
  {
   "cell_type": "markdown",
   "id": "cca8d9a3",
   "metadata": {},
   "source": [
    "### Inertia\n",
    "Mesure la somme des distances au carré entre chaque point et son centroïde.\n",
    "\n",
    "Plus l'inertie est faible, mieux les points sont regroupés autour de leur centroïde."
   ]
  },
  {
   "cell_type": "code",
   "execution_count": 2,
   "id": "aa9f5ae5",
   "metadata": {},
   "outputs": [],
   "source": [
    "def compute_inertia(X, labels, centroids):\n",
    "    inertia = 0\n",
    "    for i in range(centroids.shape[0]):\n",
    "        cluster_points = X[labels == i]\n",
    "        distances = np.linalg.norm(cluster_points - centroids[i], axis=1)\n",
    "        inertia += np.sum(distances ** 2)\n",
    "    return inertia"
   ]
  }
 ],
 "metadata": {
  "kernelspec": {
   "display_name": "base",
   "language": "python",
   "name": "python3"
  },
  "language_info": {
   "codemirror_mode": {
    "name": "ipython",
    "version": 3
   },
   "file_extension": ".py",
   "mimetype": "text/x-python",
   "name": "python",
   "nbconvert_exporter": "python",
   "pygments_lexer": "ipython3",
   "version": "3.12.4"
  }
 },
 "nbformat": 4,
 "nbformat_minor": 5
}
